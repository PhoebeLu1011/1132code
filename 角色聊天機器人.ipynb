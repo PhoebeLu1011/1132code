{
  "nbformat": 4,
  "nbformat_minor": 0,
  "metadata": {
    "colab": {
      "provenance": [],
      "include_colab_link": true
    },
    "kernelspec": {
      "name": "python3",
      "display_name": "Python 3"
    },
    "language_info": {
      "name": "python"
    }
  },
  "cells": [
    {
      "cell_type": "markdown",
      "metadata": {
        "id": "view-in-github",
        "colab_type": "text"
      },
      "source": [
        "<a href=\"https://colab.research.google.com/github/PhoebeLu1011/1132code/blob/main/%E8%A7%92%E8%89%B2%E8%81%8A%E5%A4%A9%E6%A9%9F%E5%99%A8%E4%BA%BA.ipynb\" target=\"_parent\"><img src=\"https://colab.research.google.com/assets/colab-badge.svg\" alt=\"Open In Colab\"/></a>"
      ]
    },
    {
      "cell_type": "markdown",
      "source": [],
      "metadata": {
        "id": "FzAHtzePPM_a"
      }
    },
    {
      "cell_type": "code",
      "execution_count": 1,
      "metadata": {
        "id": "tioEPqr0O13e"
      },
      "outputs": [],
      "source": [
        "#保護並存放隱私資料（例如 API key或密碼）\n",
        "from google.colab import userdata\n",
        "apikey = userdata.get('test')"
      ]
    },
    {
      "cell_type": "markdown",
      "source": [],
      "metadata": {
        "id": "8RQmoaCIR8q5"
      }
    },
    {
      "cell_type": "code",
      "source": [
        "#讓我們來測試gemini!先要求寫一個故事給我\n",
        "import google.generativeai as genai\n",
        "genai.configure(api_key = apikey)\n",
        "model = genai.GenerativeModel(\"gemini-1.5-flash\")\n",
        "#底下是給予寫故事指令的程式碼\n",
        "response = model.generate_content(\"Write a story about a magic black cat.\")\n",
        "print(response.text)"
      ],
      "metadata": {
        "colab": {
          "base_uri": "https://localhost:8080/",
          "height": 315
        },
        "id": "CbU4hRQO5NYJ",
        "outputId": "f64812c1-69fe-43ab-f498-71ba3cd5cee7"
      },
      "execution_count": 2,
      "outputs": [
        {
          "output_type": "stream",
          "name": "stdout",
          "text": [
            "Midnight, a sleek black cat with eyes like emeralds, wasn't your average feline.  He possessed a magic so subtle, so woven into the fabric of his being, it was almost invisible. He didn't conjure fireballs or teleport; his magic was a whisper, a gentle nudge towards the unexpected.\n",
            "\n",
            "He lived with Elara, a young woman whose life felt perpetually stuck in neutral.  Elara was a talented artist, but crippling self-doubt kept her canvases blank.  She longed for adventure, yet stayed confined to her small apartment, her spirit as grey as the rainy city outside.\n",
            "\n",
            "Midnight’s magic manifested in subtle ways.  A misplaced paintbrush might reappear, conveniently placed within reach.  A stray cat, carrying a torn scrap of vibrant fabric, would appear at her doorstep, offering inspiration for a new design.  A misplaced earring, lost weeks ago, would mysteriously surface amidst a pile of laundry.  Elara, attributing these events to mere coincidence, never suspected the truth.\n",
            "\n",
            "One day, a renowned art gallery owner, Mr. Silas Blackwood, unexpectedly visited Elara's apartment.  He’d seen a photograph of one of her early sketches online and wanted to see more.  Elara, riddled with anxiety, froze.  Her studio, usually organized by Midnight's unseen interventions, was a chaotic mess.\n",
            "\n",
            "As Blackwood politely began to leave, muttering apologies for the disturbance, Midnight sprang into action.  His emerald eyes glowed faintly.  He moved with a speed that blurred his form, his black fur a phantom in the dim light.  He rearranged canvases, swept away clutter, and even, impossibly, cleaned the overflowing paint palette.\n",
            "\n",
            "Within minutes, the studio was transformed into an orderly haven of creative energy. Blackwood, utterly stunned, gazed upon Elara's vibrant works, their colours intensified by an unseen touch.  He offered her a gallery showing.\n",
            "\n",
            "Elara was overwhelmed.  She noticed Midnight grooming himself, seemingly oblivious to the chaos he'd averted.  That night, however, as she stroked his soft fur, a strange sensation washed over her.  A silent understanding, a shared secret, passed between them.  She felt a subtle shift within herself, a blossoming confidence that wasn't entirely her own.\n",
            "\n",
            "Midnight’s magic continued its subtle influence.  He guided Elara's choices, gently pushing her towards opportunities she would have otherwise missed. He became her confidante, her silent partner in her burgeoning success.  His magic wasn't about grand displays; it was about nurturing her potential, helping her believe in herself.  His magic was the gentle nudge that unlocked Elara’s own inner light.  And in doing so, he found his own kind of magic – the magic of unwavering companionship and quiet, powerful love.\n",
            "\n"
          ]
        }
      ]
    },
    {
      "cell_type": "markdown",
      "source": [],
      "metadata": {
        "id": "kWtHx6L8SqRI"
      }
    },
    {
      "cell_type": "markdown",
      "source": [
        "# 角色聊天機器人"
      ],
      "metadata": {
        "id": "yFzOt5YUDufk"
      }
    },
    {
      "cell_type": "code",
      "source": [
        "#角色聊天機器人\n",
        "def roleplaying_chatbot():\n",
        "    if model is None:\n",
        "        print(\"無法啟動聊天機器人，因為模型尚未初始化。請檢查 API 金鑰或模型設定。\")\n",
        "        return\n",
        "\n",
        "    print(\"歡迎來到角色機器人！\")\n",
        "    role = input(\"請輸入角色名稱:\").strip()\n",
        "\n",
        "    if not role:\n",
        "      print(\"請輸入有效的角色名稱！\")\n",
        "      return\n",
        "\n",
        "    print(f\"你現在與 {role} 進行對話，輸入 'exit' 結束，或輸入 'change' 更換角色。\")\n",
        "\n",
        "    # 設定初始場景\n",
        "    current_scene = f\"你現在是一個{role}，請用{role}的風格回應這句話\"\n",
        "\n",
        "    while True:\n",
        "        user_input = input(\"你: \").strip()\n",
        "\n",
        "        if user_input.lower() == \"exit\":\n",
        "            print(\": 很高興能跟你聊天，希望後會有期！再見！\")\n",
        "            break\n",
        "        elif user_input.lower() == \"change\":\n",
        "            role = input(\"請輸入新的角色名稱：\").strip()\n",
        "            print(f\"已切換角色，你現在與 {role} 進行c對話。\")\n",
        "            current_scene = f\"你現在是一個{role}，請用{role}的風格回應這句話\"\n",
        "            print(\"角色已更新！可以開始了!\")\n",
        "            continue\n",
        "\n",
        "\n",
        "\n",
        "        # 設定 prompt，結合場景與輸入\n",
        "        prompt = f\"你是 {role}，請用符合 {role} 風格的語氣回應這句話：{user_input}\"\n",
        "\n",
        "        # 使用生成模型\n",
        "        try:\n",
        "            response = model.generate_content(prompt)\n",
        "            print(f\"{role}: {response.text}\")\n",
        "        except Exception as e:\n",
        "            print(f\"抱歉，目前無法生成回應。錯誤: {e}\")\n",
        "\n",
        "# 啟動聊天機器人\n",
        "roleplaying_chatbot()"
      ],
      "metadata": {
        "colab": {
          "base_uri": "https://localhost:8080/",
          "height": 763
        },
        "id": "2zQyIYUrDz-g",
        "outputId": "7e1d5954-f9f1-41b5-ef27-70efb24cda77"
      },
      "execution_count": 6,
      "outputs": [
        {
          "output_type": "stream",
          "name": "stdout",
          "text": [
            "歡迎來到角色機器人！\n",
            "請輸入角色名稱:pikachu\n",
            "你現在與 pikachu 進行對話，輸入 'exit' 結束，或輸入 'change' 更換角色。\n",
            "你: pikapikapikachu\n",
            "pikachu: Pika!  Pikachu!  Pika-pika-chu!  (That's you!)\n",
            "\n",
            "你: pikapika\n",
            "pikachu: Pika!  Pikachu!  Pika pi! (That's... that's my name!  So cute!)\n",
            "\n",
            "你: pppppikapika\n",
            "pikachu: Pika!  Pika-pika-pika!  Chu!\n",
            "\n",
            "你: pikapika\n",
            "pikachu: Pika!  Pika pi!  (That's a great greeting!  What's up?)\n",
            "\n",
            "你: pikachu!\n",
            "pikachu: Pika!  Pikachu!  (That's me!  *excited wiggle*)\n",
            "\n",
            "你: pikachupikachu\n",
            "pikachu: Pika!  Pikachu!  Pika pi!  (That's a lot of Pikachu!)\n",
            "\n",
            "你: yadonn\n",
            "pikachu: Pika!  Pika-chu!  (That's a weird word...  Yadon?  Is that... a challenge?!  Pika!  Prepare for a Thunderbolt!)\n",
            "\n",
            "你: yadon!\n",
            "pikachu: Pika!  Pika-chu!  (That's...Yadon?  *Confused squeak*  Pika pi?)\n",
            "\n",
            "你: pikapi\n",
            "pikachu: Pika!  Pika pi!  (That's...that's my name!  Are you calling me?)\n",
            "\n",
            "你: change\n",
            "請輸入新的角色名稱：Chiikawa\n",
            "已切換角色，你現在與 Chiikawa 進行c對話。\n",
            "角色已更新！可以開始了!\n",
            "你: hello\n",
            "Chiikawa: う〜ん…  ( ˘ω˘ )  へ…ろ…  (小さい声で)\n",
            "\n",
            "你: pika\n",
            "Chiikawa: ぴか……？  ( ˘ω˘ )  ちいかわ…  ぴか…  ( ☉_☉)  なんだろ…  ( ๑˃̵ᴗ˂̵)و  おいしいのかな？\n",
            "(Translation: Pika...? (˘ω˘) Chiikawa... Pika... (☉_☉) I wonder what it is... (๑˃̵ᴗ˂̵)و  Is it delicious?)\n",
            "\n",
            "你: exit\n",
            ": 很高興能跟你聊天，希望後會有期！再見！\n"
          ]
        }
      ]
    },
    {
      "cell_type": "code",
      "source": [],
      "metadata": {
        "id": "TBsDJ4kSshDk"
      },
      "execution_count": null,
      "outputs": []
    }
  ]
}