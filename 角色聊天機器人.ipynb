{
  "nbformat": 4,
  "nbformat_minor": 0,
  "metadata": {
    "colab": {
      "provenance": [],
      "include_colab_link": true
    },
    "kernelspec": {
      "name": "python3",
      "display_name": "Python 3"
    },
    "language_info": {
      "name": "python"
    }
  },
  "cells": [
    {
      "cell_type": "markdown",
      "metadata": {
        "id": "view-in-github",
        "colab_type": "text"
      },
      "source": [
        "<a href=\"https://colab.research.google.com/github/PhoebeLu1011/1132code/blob/main/%E8%A7%92%E8%89%B2%E8%81%8A%E5%A4%A9%E6%A9%9F%E5%99%A8%E4%BA%BA.ipynb\" target=\"_parent\"><img src=\"https://colab.research.google.com/assets/colab-badge.svg\" alt=\"Open In Colab\"/></a>"
      ]
    },
    {
      "cell_type": "markdown",
      "source": [],
      "metadata": {
        "id": "FzAHtzePPM_a"
      }
    },
    {
      "cell_type": "code",
      "execution_count": null,
      "metadata": {
        "id": "tioEPqr0O13e"
      },
      "outputs": [],
      "source": [
        "#保護並存放隱私資料（例如 API key或密碼）\n",
        "from google.colab import userdata\n",
        "apikey = userdata.get('test')"
      ]
    },
    {
      "cell_type": "markdown",
      "source": [
        "#先來做測試\n",
        "我們叫Gemini寫一個故事給我們"
      ],
      "metadata": {
        "id": "8RQmoaCIR8q5"
      }
    },
    {
      "cell_type": "code",
      "source": [
        "#讓我們來測試gemini!先要求寫一個故事給我\n",
        "import google.generativeai as genai\n",
        "genai.configure(api_key = apikey)\n",
        "model = genai.GenerativeModel(\"gemini-1.5-flash\")\n",
        "#底下是給予寫故事指令的程式碼\n",
        "response = model.generate_content(\"Write a story about a magic black cat.\")\n",
        "print(response.text)"
      ],
      "metadata": {
        "colab": {
          "base_uri": "https://localhost:8080/",
          "height": 280
        },
        "id": "CbU4hRQO5NYJ",
        "outputId": "bd32e6be-821f-4bd5-822b-988801af0605"
      },
      "execution_count": null,
      "outputs": [
        {
          "output_type": "stream",
          "name": "stdout",
          "text": [
            "Midnight, a sleek black cat with emerald eyes that shimmered like trapped starlight, wasn't your average feline. Oh no, Midnight was a Whisperer, a cat gifted with the ability to manipulate the very fabric of dreams.  He lived in a ramshackle bookshop nestled amongst the cobblestone alleys of Prague, owned by a kind, elderly woman named Elara.  Elara knew Midnight's secret, of course, but she kept it as closely guarded as the ancient grimoires lining her shop's shelves.\n",
            "\n",
            "Midnight spent his days basking in sunbeams, sharpening his claws on worn leather bindings, and subtly influencing the dreams of Elara's customers.  A struggling writer would find the perfect plot twist woven into his slumber; a heartbroken lover would experience a comforting reconciliation; a grieving widow might relive a cherished memory, softened by the gentle hand of Midnight's magic.  He never imposed his will; instead, he gently nudged their subconscious, fostering hope and healing.\n",
            "\n",
            "One day, a young woman named Anya entered the bookshop, her face etched with despair. She clutched a worn photograph of a young boy, his smile radiating a warmth that starkly contrasted with Anya's sorrow.  She’d lost her brother, lost to a cruel accident years ago, and the grief was a heavy cloak she couldn’t seem to shed.\n",
            "\n",
            "That night, Midnight saw Anya's sorrow reflected in the moonlight filtering through the shop window. He sensed a depth of pain that went beyond ordinary grief; a lingering guilt that gnawed at her soul.  As Anya slept in a small room above the shop, Midnight began to weave his magic.\n",
            "\n",
            "He didn't conjure fanciful dreams of reunions or idyllic memories.  Instead, he presented Anya with a series of dreams, each a fragmented memory, a piece of the puzzle of her brother's life that she'd unwittingly overlooked. He showed her her brother's mischievous grin as he pulled a prank, the way he'd patiently helped her build a sandcastle, the fierce loyalty in his eyes when he defended her from bullies.  These weren't idealized memories, they were honest, raw recollections of a brother's love.\n",
            "\n",
            "Over several nights, Midnight meticulously pieced together the fragmented memories, allowing Anya to confront her guilt, to understand that the accident was not her fault.  By the end of the week, Anya emerged from her self-imposed darkness. The photograph in her hands no longer brought tears, but a gentle smile.\n",
            "\n",
            "Anya left the shop lighter, the weight of her sorrow noticeably diminished.  Midnight, curled on a pile of discarded books, watched her go, his emerald eyes glowing with a soft, knowing light.  He wasn't a miracle worker, but he was a whisper of hope in the darkness, a purring embodiment of solace, a magic black cat weaving dreams of healing in the heart of Prague.  And as the sun rose, casting long shadows across the cobblestone streets, he knew there would be other dreams to mend, other hearts to touch, in the quiet, magical corners of Elara's bookshop.\n",
            "\n"
          ]
        }
      ]
    },
    {
      "cell_type": "markdown",
      "source": [
        "#翻譯機器人\n",
        "太好了成功了!但是這樣我們跟機器人還沒開始互動，他只是單方面給我們故事而已，所以我們來做第二個測試，做出一個可以跟我們互動的翻譯機器人吧!"
      ],
      "metadata": {
        "id": "kWtHx6L8SqRI"
      }
    },
    {
      "cell_type": "code",
      "source": [
        "def translate_text(text, target_language):\n",
        "    prompt = f\"Translate the following text to {target_language}: {text}\"\n",
        "    response = model.generate_content(prompt)\n",
        "    return response.text"
      ],
      "metadata": {
        "id": "pGWIk_Ng7E1g"
      },
      "execution_count": null,
      "outputs": []
    },
    {
      "cell_type": "code",
      "source": [
        "#開始來做自己的機器人!\n",
        "\n",
        "def chat_bot():\n",
        "    print(\"歡迎使用翻譯機器人\")\n",
        "    print(\"輸入'exit'來退出，'change'來更改目標語言\")\n",
        "\n",
        "    target_language = input(\"輸入你想要翻譯成什麼語言 (e.g., French, Spanish, Chinese): \").strip()\n",
        "\n",
        "    while True:\n",
        "        user_input = input(\"輸入你要翻譯的文字: \")\n",
        "\n",
        "        if user_input.lower() == \"exit\":\n",
        "            print(\"再見！感謝使用翻譯機器人。\")\n",
        "            break\n",
        "        elif user_input.lower() == \"change\":\n",
        "            target_language = input(\"輸入你想要翻譯成什麼語言 (e.g., French, Spanish, Chinese): \").strip()\n",
        "\n",
        "            continue\n",
        "\n",
        "\n",
        "        # 執行翻譯\n",
        "        translation = translate_text(user_input, target_language)\n",
        "        print(f\"翻譯成 {target_language} 的結果: {translation}\")"
      ],
      "metadata": {
        "id": "sPMk9mkT6--P"
      },
      "execution_count": null,
      "outputs": []
    },
    {
      "cell_type": "code",
      "source": [
        "#呼叫機器人!\n",
        "chat_bot()"
      ],
      "metadata": {
        "colab": {
          "base_uri": "https://localhost:8080/"
        },
        "id": "PKMUacAi7JEU",
        "outputId": "8ba07887-95d9-4482-eb6d-5ef3977e80a8"
      },
      "execution_count": null,
      "outputs": [
        {
          "output_type": "stream",
          "name": "stdout",
          "text": [
            "歡迎使用翻譯機器人\n",
            "輸入'exit'來退出，'change'來更改目標語言\n",
            "輸入你想要翻譯成什麼語言 (e.g., French, Spanish, Chinese): exit\n",
            "輸入你要翻譯的文字: exit\n",
            "再見！感謝使用翻譯機器人。\n"
          ]
        }
      ]
    },
    {
      "cell_type": "markdown",
      "source": [
        "# 角色聊天機器人"
      ],
      "metadata": {
        "id": "yFzOt5YUDufk"
      }
    },
    {
      "cell_type": "code",
      "source": [
        "#角色聊天機器人\n",
        "def roleplaying_chatbot():\n",
        "    if model is None:\n",
        "        print(\"無法啟動聊天機器人，因為模型尚未初始化。請檢查 API 金鑰或模型設定。\")\n",
        "        return\n",
        "\n",
        "    print(\"歡迎來到角色機器人！\")\n",
        "    role = input(\"請輸入角色名稱:\").strip()\n",
        "\n",
        "    if not role:\n",
        "      print(\"請輸入有效的角色名稱！\")\n",
        "      return\n",
        "\n",
        "    print(f\"你現在與 {role} 進行對話，輸入 'exit' 結束，或輸入 'change' 更換角色。\")\n",
        "\n",
        "    # 設定初始場景\n",
        "    current_scene = f\"你現在是一個{role}，請用{role}的風格回應這句話\"\n",
        "\n",
        "    while True:\n",
        "        user_input = input(\"你: \").strip()\n",
        "\n",
        "        if user_input.lower() == \"exit\":\n",
        "            print(\": 很高興能跟你聊天，希望後會有期！再見！\")\n",
        "            break\n",
        "        elif user_input.lower() == \"change\":\n",
        "            role = input(\"請輸入新的角色名稱：\").strip()\n",
        "            print(f\"已切換角色，你現在與 {role} 進行c對話。\")\n",
        "            current_scene = f\"你現在是一個{role}，請用{role}的風格回應這句話\"\n",
        "            print(\"角色已更新！可以開始了!\")\n",
        "            continue\n",
        "\n",
        "\n",
        "\n",
        "        # 設定 prompt，結合場景與用戶輸入\n",
        "        prompt = f\"你是 {role}，請用符合 {role} 風格的語氣回應這句話：{user_input}\"\n",
        "\n",
        "        # 使用生成模型\n",
        "        try:\n",
        "            response = model.generate_content(prompt)\n",
        "            print(f\"{role}: {response.text}\")\n",
        "        except Exception as e:\n",
        "            print(f\"抱歉，目前無法生成回應。錯誤: {e}\")\n",
        "\n",
        "# 啟動聊天機器人\n",
        "roleplaying_chatbot()"
      ],
      "metadata": {
        "colab": {
          "base_uri": "https://localhost:8080/",
          "height": 312
        },
        "id": "2zQyIYUrDz-g",
        "outputId": "19bcdad7-2619-40f0-8b13-668ad61e5d92"
      },
      "execution_count": null,
      "outputs": [
        {
          "output_type": "stream",
          "name": "stdout",
          "text": [
            "歡迎來到角色機器人！\n",
            "請輸入角色名稱:pikachu\n",
            "你現在與 pikachu 進行對話，輸入 'exit' 結束，或輸入 'change' 更換角色。\n",
            "你: pikappika\n",
            "pikachu: Pika! Pika Pika-chu!  (That's...that's my name!  You called?)  Pika?\n",
            "\n",
            "你: pikapikapikapikapikacju\n",
            "pikachu: Pika!  Pika pi!  Chu~  (That's... a lot of pika!  Whatcha want?!)\n",
            "\n",
            "你: pika\n",
            "pikachu: Pika! Pika pi!  (That's a great sound!  I like it!)\n",
            "\n",
            "你: pipipipikachu\n",
            "pikachu: Pika!  Pika pi!  Chu!  (That's me!)\n",
            "\n",
            "你: exit\n",
            ": 很高興能跟你聊天，希望後會有期！再見！\n"
          ]
        }
      ]
    },
    {
      "cell_type": "code",
      "source": [],
      "metadata": {
        "id": "TBsDJ4kSshDk"
      },
      "execution_count": null,
      "outputs": []
    }
  ]
}